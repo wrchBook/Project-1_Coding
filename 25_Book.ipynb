{
  "nbformat": 4,
  "nbformat_minor": 0,
  "metadata": {
    "colab": {
      "provenance": [],
      "authorship_tag": "ABX9TyO8yAGYE70eqpXt0ygUO5XK",
      "include_colab_link": true
    },
    "kernelspec": {
      "name": "python3",
      "display_name": "Python 3"
    },
    "language_info": {
      "name": "python"
    }
  },
  "cells": [
    {
      "cell_type": "markdown",
      "metadata": {
        "id": "view-in-github",
        "colab_type": "text"
      },
      "source": [
        "<a href=\"https://colab.research.google.com/github/wrchBook/Project-1_Coding/blob/main/25_Book.ipynb\" target=\"_parent\"><img src=\"https://colab.research.google.com/assets/colab-badge.svg\" alt=\"Open In Colab\"/></a>"
      ]
    },
    {
      "cell_type": "code",
      "execution_count": null,
      "metadata": {
        "id": "5jUSXX3ja-6T"
      },
      "outputs": [],
      "source": []
    },
    {
      "cell_type": "markdown",
      "source": [
        "*เลขที่* 25 บุ๊ค นาย วรโชติ ดวนสันเทียะ\n",
        "No 25 book Worachot Duansanther"
      ],
      "metadata": {
        "id": "q-wN4MsvcyH0"
      }
    },
    {
      "cell_type": "code",
      "source": [
        "print('4/4')"
      ],
      "metadata": {
        "colab": {
          "base_uri": "https://localhost:8080/"
        },
        "id": "ygB10QsJ-hBc",
        "outputId": "a0a468a9-87b0-4b63-b0f2-dbcdd2d3d473"
      },
      "execution_count": null,
      "outputs": [
        {
          "output_type": "stream",
          "name": "stdout",
          "text": [
            "4/4\n"
          ]
        }
      ]
    },
    {
      "cell_type": "code",
      "source": [
        "print(\"4/4\")"
      ],
      "metadata": {
        "colab": {
          "base_uri": "https://localhost:8080/"
        },
        "id": "PXEsKkW5BFAA",
        "outputId": "e41588c9-f593-4914-a1d6-0eb060c51175"
      },
      "execution_count": null,
      "outputs": [
        {
          "output_type": "stream",
          "name": "stdout",
          "text": [
            "4/4\n"
          ]
        }
      ]
    },
    {
      "cell_type": "markdown",
      "source": [
        "20/05/2567\n",
        "-การเขียนprint"
      ],
      "metadata": {
        "id": "Pf-wCYygCR0P"
      }
    },
    {
      "cell_type": "code",
      "source": [
        "print('สวัสดีคีาบบ เราชื่่อบุ๊คนะครับป๋ม')"
      ],
      "metadata": {
        "colab": {
          "base_uri": "https://localhost:8080/"
        },
        "id": "LUmme8W4Ci-v",
        "outputId": "c9bcbb15-65a9-4354-cc0d-a288d93cd5d9"
      },
      "execution_count": null,
      "outputs": [
        {
          "output_type": "stream",
          "name": "stdout",
          "text": [
            "สวัสดีคีาบบ เราชื่่อบุ๊คนะครับป๋มมมม\n"
          ]
        }
      ]
    },
    {
      "cell_type": "code",
      "source": [
        "#A=5 B=2\n",
        "print('5.00-2.00=3.0000')"
      ],
      "metadata": {
        "colab": {
          "base_uri": "https://localhost:8080/"
        },
        "id": "nYXfJfbEEH35",
        "outputId": "709485a8-c00b-44d6-cfe0-b486ceb56e40"
      },
      "execution_count": null,
      "outputs": [
        {
          "output_type": "stream",
          "name": "stdout",
          "text": [
            "5.00-2.00=3.0000\n"
          ]
        }
      ]
    },
    {
      "cell_type": "code",
      "source": [],
      "metadata": {
        "id": "h8kWE0yHhLC9"
      },
      "execution_count": null,
      "outputs": []
    },
    {
      "cell_type": "markdown",
      "source": [
        "29 May 2024\n",
        "*  ประเภทของตัวแปรที่ใช้ต้องเป็นตัวอังกฤษพิมพ์เล็ก\n",
        "*  คำสั่งแสดงประเภทของขอมูล คือ type\n",
        "*   คำสั่ง print บอกข้อความ\n",
        "\n",
        "\n"
      ],
      "metadata": {
        "id": "ZH0EJt8JZl2F"
      }
    },
    {
      "cell_type": "code",
      "source": [
        "a = 2\n",
        "b = 1.5\n",
        "c =\"M.4/4\"\n",
        "type(a)"
      ],
      "metadata": {
        "colab": {
          "base_uri": "https://localhost:8080/"
        },
        "id": "JIjf86M1b-3O",
        "outputId": "2df4ba45-6fd2-4342-fbce-68882c444228"
      },
      "execution_count": null,
      "outputs": [
        {
          "output_type": "execute_result",
          "data": {
            "text/plain": [
              "int"
            ]
          },
          "metadata": {},
          "execution_count": 5
        }
      ]
    },
    {
      "cell_type": "code",
      "source": [
        "a = 2\n",
        "b = 1.5\n",
        "c =\"M.4/4\"\n",
        "type(b)"
      ],
      "metadata": {
        "colab": {
          "base_uri": "https://localhost:8080/"
        },
        "id": "QOB9OK4bc0i-",
        "outputId": "fcd0adb4-c448-4516-af04-6b93f2d6854f"
      },
      "execution_count": null,
      "outputs": [
        {
          "output_type": "execute_result",
          "data": {
            "text/plain": [
              "float"
            ]
          },
          "metadata": {},
          "execution_count": 6
        }
      ]
    },
    {
      "cell_type": "code",
      "source": [
        "a = 2\n",
        "b = 1.5\n",
        "c = \"M.4/4\"\n",
        "type(c)\n",
        "\n",
        "print(\"ตัวแปรที่ฉันคิด คือ old \")"
      ],
      "metadata": {
        "colab": {
          "base_uri": "https://localhost:8080/"
        },
        "id": "5RMys4ayZ0c9",
        "outputId": "b1016568-a6c0-458b-838f-d23e61e6584e"
      },
      "execution_count": null,
      "outputs": [
        {
          "output_type": "execute_result",
          "data": {
            "text/plain": [
              "str"
            ]
          },
          "metadata": {},
          "execution_count": 4
        }
      ]
    },
    {
      "cell_type": "code",
      "source": [
        "print (\"ตัวแปรที่ฉันคิด คือ old\")"
      ],
      "metadata": {
        "id": "12JmnBPeg1U-"
      },
      "execution_count": null,
      "outputs": []
    },
    {
      "cell_type": "code",
      "source": [
        "numeric1 = 5\n",
        "print(numeric1)\n",
        "type(numeric1)"
      ],
      "metadata": {
        "colab": {
          "base_uri": "https://localhost:8080/"
        },
        "id": "s4D550oDkU4G",
        "outputId": "e51feca4-423b-42e1-c471-9513c41d527d"
      },
      "execution_count": null,
      "outputs": [
        {
          "output_type": "stream",
          "name": "stdout",
          "text": [
            "5\n"
          ]
        },
        {
          "output_type": "execute_result",
          "data": {
            "text/plain": [
              "int"
            ]
          },
          "metadata": {},
          "execution_count": 8
        }
      ]
    },
    {
      "cell_type": "markdown",
      "source": [
        "05/06/2567\n",
        "ได้รู้เกี่ยวกับPythonและสัญลักษณ์ index"
      ],
      "metadata": {
        "id": "-mClMGS7Whc1"
      }
    },
    {
      "cell_type": "code",
      "source": [
        "string1 = \"Python\"\n",
        "print(string1[0])"
      ],
      "metadata": {
        "colab": {
          "base_uri": "https://localhost:8080/"
        },
        "id": "lsbaXN8VaYE8",
        "outputId": "093eb123-0370-43d4-b737-b1f09296ec30"
      },
      "execution_count": null,
      "outputs": [
        {
          "output_type": "stream",
          "name": "stdout",
          "text": [
            "P\n"
          ]
        }
      ]
    },
    {
      "cell_type": "markdown",
      "source": [
        "input = ประมวณผลคำสั่ง คือ print\n",
        "process = คำสั่งที่รับเข้ามา process\n",
        "output = สิ่งที่แสดงผลลัพท์ออกมา"
      ],
      "metadata": {
        "id": "qu5Cis7TiSCt"
      }
    },
    {
      "cell_type": "markdown",
      "source": [
        "26/06/67\n",
        "\n",
        "input"
      ],
      "metadata": {
        "id": "UgJ0K3-dt3iR"
      }
    },
    {
      "cell_type": "code",
      "source": [
        "name = input(\"ใส่ชื่อมาตรงนี้นะครับ\")\n",
        "print(\"ยินดีที่ได้รู้จัก\"name)"
      ],
      "metadata": {
        "colab": {
          "base_uri": "https://localhost:8080/",
          "height": 110
        },
        "id": "svGMz6Wwv41w",
        "outputId": "0e32aae4-e22d-4180-e1d1-24f7b2171090"
      },
      "execution_count": null,
      "outputs": [
        {
          "output_type": "error",
          "ename": "SyntaxError",
          "evalue": "invalid syntax. Perhaps you forgot a comma? (<ipython-input-3-fceb22aba75c>, line 2)",
          "traceback": [
            "\u001b[0;36m  File \u001b[0;32m\"<ipython-input-3-fceb22aba75c>\"\u001b[0;36m, line \u001b[0;32m2\u001b[0m\n\u001b[0;31m    print(\"ยินดีที่ได้รู้จัก\"name)\u001b[0m\n\u001b[0m          ^\u001b[0m\n\u001b[0;31mSyntaxError\u001b[0m\u001b[0;31m:\u001b[0m invalid syntax. Perhaps you forgot a comma?\n"
          ]
        }
      ]
    },
    {
      "cell_type": "code",
      "source": [
        "side = int(input(\"ความยาวด้าน (ซม.) คือ\"))\n",
        "\n",
        "area = side * side\n",
        "\n",
        "print(\"พื้นที่สี่เหลี่ยม เท่ากับ\",area,\"ตร.ซม.\")"
      ],
      "metadata": {
        "colab": {
          "base_uri": "https://localhost:8080/"
        },
        "id": "P6SJbGzUzB6A",
        "outputId": "db414a9e-d6d6-483a-f497-dcd9652d81e2"
      },
      "execution_count": null,
      "outputs": [
        {
          "output_type": "stream",
          "name": "stdout",
          "text": [
            "ความยาวด้าน (ซม.) คือ5\n",
            "พื้นที่สี่เหลี่ยม เท่ากับ 25 ตร.ซม.\n"
          ]
        }
      ]
    },
    {
      "cell_type": "markdown",
      "source": [
        "1/07/67\n",
        "เขียนโปรแกรมสมการการเครื่อนที่ในแนวเส้นตรง"
      ],
      "metadata": {
        "id": "Bk2wYwqoQDwp"
      }
    },
    {
      "cell_type": "code",
      "source": [
        "s = int(input(\"ระยะทาง(s)คือ\"))\n",
        "t = int(input(\"เวลา(t)คือ\"))\n",
        "\n",
        "v = s/t\n",
        "\n",
        "print(\"อัตราเร็ว เท่ากับ\",v,\"คือ\")"
      ],
      "metadata": {
        "colab": {
          "base_uri": "https://localhost:8080/"
        },
        "id": "QXX9iFx1U1Ut",
        "outputId": "f7495e66-3b24-49cb-b3a0-d7f6d0a1f41b"
      },
      "execution_count": null,
      "outputs": [
        {
          "output_type": "stream",
          "name": "stdout",
          "text": [
            "ระยะทาง(s)คือ5\n",
            "เวลา(t)คือ10\n",
            "อัตราเร็ว เท่ากับ 0.5 คือ\n"
          ]
        }
      ]
    },
    {
      "cell_type": "code",
      "source": [
        "w=fro"
      ],
      "metadata": {
        "id": "WbMcumjpX2rM"
      },
      "execution_count": null,
      "outputs": []
    }
  ]
}